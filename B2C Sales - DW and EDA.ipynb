{
 "cells": [
  {
   "cell_type": "code",
   "execution_count": 1,
   "id": "0ca90c1e",
   "metadata": {},
   "outputs": [],
   "source": [
    "# Import necessary libraries\n",
    "import pandas as pd\n",
    "import zipfile\n",
    "import os\n",
    "import numpy as np\n",
    "import seaborn as sns\n",
    "import matplotlib.pyplot as plt\n",
    "import itertools\n",
    "import statsmodels.api as sm\n",
    "from matplotlib.colors import LinearSegmentedColormap"
   ]
  },
  {
   "cell_type": "code",
   "execution_count": 8,
   "id": "b8c5423e",
   "metadata": {},
   "outputs": [
    {
     "name": "stdout",
     "output_type": "stream",
     "text": [
      "Zip files: \n",
      "['VENTAS_ANON_20240615.zip', 'VENTAS_ANON_20240608.zip', 'VENTAS_ANON_20240601.zip', 'VENTAS_ANON_20240525.zip', 'VENTAS_ANON_20240518.zip', 'VENTAS_ANON_20240511.zip', 'VENTAS_ANON_20240504.zip', 'VENTAS_ANON_20240427.zip', 'VENTAS_ANON_20240420.zip', 'VENTAS_ANON_20240413.zip', 'VENTAS_ANON_20240406.zip', 'VENTAS_ANON_20240330.zip', 'VENTAS_ANON_20240323.zip', 'VENTAS_ANON_20240316.zip', 'VENTAS_ANON_20240309.zip']\n"
     ]
    }
   ],
   "source": [
    "# Path one step above, into data folder\n",
    "path_files = r'../data/B2C Sales - Data Wrangling and EDA'\n",
    "\n",
    "zip_files = [f for f in os.listdir(path_files) if f.endswith('.zip')]\n",
    "# Order the list of zip files by their name\n",
    "zip_files.sort(reverse=True)\n",
    "\n",
    "print(\"Zip files: \")\n",
    "print(zip_files)\n"
   ]
  },
  {
   "cell_type": "code",
   "execution_count": 3,
   "id": "573512fb",
   "metadata": {},
   "outputs": [],
   "source": [
    "def extract_csv_from_zips(prefix, path_files, zip_files, verbose=True):\n",
    "    \"\"\"\n",
    "    Extract CSV files starting with `prefix` from a list of ZIP files.\n",
    "\n",
    "    Returns a single DataFrame with all files combined.\n",
    "    \"\"\"\n",
    "    dataframes = []\n",
    "\n",
    "    for zip_file in zip_files:\n",
    "        zip_path = os.path.join(path_files, zip_file)\n",
    "        with zipfile.ZipFile(zip_path, 'r') as z:\n",
    "            for filename in z.namelist():\n",
    "                if filename.startswith(prefix) and filename.endswith('.csv'):\n",
    "#                    if verbose:\n",
    "#                        print(f\"Processing {filename} from {zip_path}\")\n",
    "                    with z.open(filename) as f:\n",
    "                        df = pd.read_csv(f, delimiter=';')\n",
    "                        df['archivo_origen'] = filename \n",
    "                        dataframes.append(df)\n",
    "\n",
    "    if not dataframes:\n",
    "        print(f\"No csv files found starting with '{prefix}'.\")\n",
    "        return pd.DataFrame()\n",
    "    else:\n",
    "        df_final = pd.concat(dataframes, ignore_index=True)\n",
    "        if verbose:\n",
    "            print(f\"{prefix} successfully processed. Total rows: {len(df_final)}\")\n",
    "        return df_final"
   ]
  },
  {
   "cell_type": "code",
   "execution_count": 4,
   "id": "123f12ce",
   "metadata": {},
   "outputs": [
    {
     "name": "stdout",
     "output_type": "stream",
     "text": [
      "AR_VTA successfully processed. Total rows: 3615562\n",
      "AR_PRD successfully processed. Total rows: 32420\n",
      "AR_PDV successfully processed. Total rows: 27297\n"
     ]
    }
   ],
   "source": [
    "df_VTA_000 = extract_csv_from_zips(\"AR_VTA\", path_files, zip_files)\n",
    "df_PRD_000 = extract_csv_from_zips(\"AR_PRD\", path_files, zip_files)\n",
    "df_PDV_000 = extract_csv_from_zips(\"AR_PDV\", path_files, zip_files)"
   ]
  },
  {
   "cell_type": "code",
   "execution_count": 5,
   "id": "b67413f9",
   "metadata": {},
   "outputs": [
    {
     "data": {
      "application/vnd.microsoft.datawrangler.viewer.v0+json": {
       "columns": [
        {
         "name": "index",
         "rawType": "int64",
         "type": "integer"
        },
        {
         "name": "Semana_Inicio_Semana",
         "rawType": "int64",
         "type": "integer"
        },
        {
         "name": "Codigo_Unico_PDV",
         "rawType": "object",
         "type": "string"
        },
        {
         "name": "PDV_Comparables",
         "rawType": "int64",
         "type": "integer"
        },
        {
         "name": "Codigo_Barras_SKU",
         "rawType": "object",
         "type": "string"
        },
        {
         "name": "Categoria",
         "rawType": "object",
         "type": "string"
        },
        {
         "name": "Cantidad_Contenido_SKU",
         "rawType": "float64",
         "type": "float"
        },
        {
         "name": "Cantidad_de_Venta",
         "rawType": "int64",
         "type": "integer"
        },
        {
         "name": "Precio_por_Unidade",
         "rawType": "object",
         "type": "string"
        },
        {
         "name": "archivo_origen",
         "rawType": "object",
         "type": "string"
        }
       ],
       "ref": "fbce3849-8bc5-44b1-a9fb-ec883b0f422a",
       "rows": [
        [
         "0",
         "20240518",
         "ID0460",
         "1",
         "ID0091",
         "ID0004",
         "400.0",
         "8",
         "21709,92",
         "AR_VTA_20240615.csv"
        ],
        [
         "1",
         "20240518",
         "ID0371",
         "1",
         "ID0566",
         "ID0002",
         "230.0",
         "9",
         "13500,00",
         "AR_VTA_20240615.csv"
        ],
        [
         "2",
         "20240518",
         "ID0166",
         "0",
         "ID0566",
         "ID0002",
         "230.0",
         "26",
         "39575,43",
         "AR_VTA_20240615.csv"
        ],
        [
         "3",
         "20240511",
         "ID0446",
         "1",
         "ID0260",
         "ID0001",
         "110.0",
         "1",
         "1000,00",
         "AR_VTA_20240615.csv"
        ],
        [
         "4",
         "20240525",
         "ID0797",
         "1",
         "ID0093",
         "ID0001",
         "160.0",
         "3",
         "5670,00",
         "AR_VTA_20240615.csv"
        ]
       ],
       "shape": {
        "columns": 9,
        "rows": 5
       }
      },
      "text/html": [
       "<div>\n",
       "<style scoped>\n",
       "    .dataframe tbody tr th:only-of-type {\n",
       "        vertical-align: middle;\n",
       "    }\n",
       "\n",
       "    .dataframe tbody tr th {\n",
       "        vertical-align: top;\n",
       "    }\n",
       "\n",
       "    .dataframe thead th {\n",
       "        text-align: right;\n",
       "    }\n",
       "</style>\n",
       "<table border=\"1\" class=\"dataframe\">\n",
       "  <thead>\n",
       "    <tr style=\"text-align: right;\">\n",
       "      <th></th>\n",
       "      <th>Semana_Inicio_Semana</th>\n",
       "      <th>Codigo_Unico_PDV</th>\n",
       "      <th>PDV_Comparables</th>\n",
       "      <th>Codigo_Barras_SKU</th>\n",
       "      <th>Categoria</th>\n",
       "      <th>Cantidad_Contenido_SKU</th>\n",
       "      <th>Cantidad_de_Venta</th>\n",
       "      <th>Precio_por_Unidade</th>\n",
       "      <th>archivo_origen</th>\n",
       "    </tr>\n",
       "  </thead>\n",
       "  <tbody>\n",
       "    <tr>\n",
       "      <th>0</th>\n",
       "      <td>20240518</td>\n",
       "      <td>ID0460</td>\n",
       "      <td>1</td>\n",
       "      <td>ID0091</td>\n",
       "      <td>ID0004</td>\n",
       "      <td>400.0</td>\n",
       "      <td>8</td>\n",
       "      <td>21709,92</td>\n",
       "      <td>AR_VTA_20240615.csv</td>\n",
       "    </tr>\n",
       "    <tr>\n",
       "      <th>1</th>\n",
       "      <td>20240518</td>\n",
       "      <td>ID0371</td>\n",
       "      <td>1</td>\n",
       "      <td>ID0566</td>\n",
       "      <td>ID0002</td>\n",
       "      <td>230.0</td>\n",
       "      <td>9</td>\n",
       "      <td>13500,00</td>\n",
       "      <td>AR_VTA_20240615.csv</td>\n",
       "    </tr>\n",
       "    <tr>\n",
       "      <th>2</th>\n",
       "      <td>20240518</td>\n",
       "      <td>ID0166</td>\n",
       "      <td>0</td>\n",
       "      <td>ID0566</td>\n",
       "      <td>ID0002</td>\n",
       "      <td>230.0</td>\n",
       "      <td>26</td>\n",
       "      <td>39575,43</td>\n",
       "      <td>AR_VTA_20240615.csv</td>\n",
       "    </tr>\n",
       "    <tr>\n",
       "      <th>3</th>\n",
       "      <td>20240511</td>\n",
       "      <td>ID0446</td>\n",
       "      <td>1</td>\n",
       "      <td>ID0260</td>\n",
       "      <td>ID0001</td>\n",
       "      <td>110.0</td>\n",
       "      <td>1</td>\n",
       "      <td>1000,00</td>\n",
       "      <td>AR_VTA_20240615.csv</td>\n",
       "    </tr>\n",
       "    <tr>\n",
       "      <th>4</th>\n",
       "      <td>20240525</td>\n",
       "      <td>ID0797</td>\n",
       "      <td>1</td>\n",
       "      <td>ID0093</td>\n",
       "      <td>ID0001</td>\n",
       "      <td>160.0</td>\n",
       "      <td>3</td>\n",
       "      <td>5670,00</td>\n",
       "      <td>AR_VTA_20240615.csv</td>\n",
       "    </tr>\n",
       "  </tbody>\n",
       "</table>\n",
       "</div>"
      ],
      "text/plain": [
       "   Semana_Inicio_Semana Codigo_Unico_PDV  PDV_Comparables Codigo_Barras_SKU  \\\n",
       "0              20240518           ID0460                1            ID0091   \n",
       "1              20240518           ID0371                1            ID0566   \n",
       "2              20240518           ID0166                0            ID0566   \n",
       "3              20240511           ID0446                1            ID0260   \n",
       "4              20240525           ID0797                1            ID0093   \n",
       "\n",
       "  Categoria  Cantidad_Contenido_SKU  Cantidad_de_Venta Precio_por_Unidade  \\\n",
       "0    ID0004                   400.0                  8           21709,92   \n",
       "1    ID0002                   230.0                  9           13500,00   \n",
       "2    ID0002                   230.0                 26           39575,43   \n",
       "3    ID0001                   110.0                  1            1000,00   \n",
       "4    ID0001                   160.0                  3            5670,00   \n",
       "\n",
       "        archivo_origen  \n",
       "0  AR_VTA_20240615.csv  \n",
       "1  AR_VTA_20240615.csv  \n",
       "2  AR_VTA_20240615.csv  \n",
       "3  AR_VTA_20240615.csv  \n",
       "4  AR_VTA_20240615.csv  "
      ]
     },
     "execution_count": 5,
     "metadata": {},
     "output_type": "execute_result"
    }
   ],
   "source": [
    "df_VTA_000.head()"
   ]
  },
  {
   "cell_type": "code",
   "execution_count": 6,
   "id": "6281470d",
   "metadata": {},
   "outputs": [
    {
     "data": {
      "application/vnd.microsoft.datawrangler.viewer.v0+json": {
       "columns": [
        {
         "name": "index",
         "rawType": "int64",
         "type": "integer"
        },
        {
         "name": "PRD_CODIGO",
         "rawType": "object",
         "type": "string"
        },
        {
         "name": "CATEGORIA_SKU",
         "rawType": "object",
         "type": "string"
        },
        {
         "name": "PROVEEDOR_SKU",
         "rawType": "object",
         "type": "string"
        },
        {
         "name": "MARCA_SKU",
         "rawType": "object",
         "type": "string"
        },
        {
         "name": "NOMBRE_SKU",
         "rawType": "object",
         "type": "string"
        },
        {
         "name": "CODIGO_BARRAS_SKU",
         "rawType": "object",
         "type": "string"
        },
        {
         "name": "PROD_CANT_CONTENIDO",
         "rawType": "float64",
         "type": "float"
        },
        {
         "name": "archivo_origen",
         "rawType": "object",
         "type": "string"
        }
       ],
       "ref": "1a08b736-8780-4e5e-9b17-b6a3e627f8c7",
       "rows": [
        [
         "0",
         "ID1138",
         "ID0002",
         "ID0002",
         "ID0002",
         "ID1128",
         "ID1138",
         "500.0",
         "AR_PRD_20240615.csv"
        ],
        [
         "1",
         "ID1139",
         "ID0002",
         "ID0002",
         "ID0002",
         "ID1129",
         "ID1139",
         "100.0",
         "AR_PRD_20240615.csv"
        ],
        [
         "2",
         "ID1140",
         "ID0007",
         "ID0056",
         "ID0103",
         "ID2110",
         "ID1140",
         "400.0",
         "AR_PRD_20240615.csv"
        ],
        [
         "3",
         "ID1279",
         "ID0004",
         "ID0007",
         "ID0010",
         "ID0774",
         "ID0781",
         "450.0",
         "AR_PRD_20240615.csv"
        ],
        [
         "4",
         "ID1746",
         "ID0001",
         "ID0002",
         "ID0002",
         "ID1221",
         "ID1232",
         "6.0",
         "AR_PRD_20240615.csv"
        ]
       ],
       "shape": {
        "columns": 8,
        "rows": 5
       }
      },
      "text/html": [
       "<div>\n",
       "<style scoped>\n",
       "    .dataframe tbody tr th:only-of-type {\n",
       "        vertical-align: middle;\n",
       "    }\n",
       "\n",
       "    .dataframe tbody tr th {\n",
       "        vertical-align: top;\n",
       "    }\n",
       "\n",
       "    .dataframe thead th {\n",
       "        text-align: right;\n",
       "    }\n",
       "</style>\n",
       "<table border=\"1\" class=\"dataframe\">\n",
       "  <thead>\n",
       "    <tr style=\"text-align: right;\">\n",
       "      <th></th>\n",
       "      <th>PRD_CODIGO</th>\n",
       "      <th>CATEGORIA_SKU</th>\n",
       "      <th>PROVEEDOR_SKU</th>\n",
       "      <th>MARCA_SKU</th>\n",
       "      <th>NOMBRE_SKU</th>\n",
       "      <th>CODIGO_BARRAS_SKU</th>\n",
       "      <th>PROD_CANT_CONTENIDO</th>\n",
       "      <th>archivo_origen</th>\n",
       "    </tr>\n",
       "  </thead>\n",
       "  <tbody>\n",
       "    <tr>\n",
       "      <th>0</th>\n",
       "      <td>ID1138</td>\n",
       "      <td>ID0002</td>\n",
       "      <td>ID0002</td>\n",
       "      <td>ID0002</td>\n",
       "      <td>ID1128</td>\n",
       "      <td>ID1138</td>\n",
       "      <td>500.0</td>\n",
       "      <td>AR_PRD_20240615.csv</td>\n",
       "    </tr>\n",
       "    <tr>\n",
       "      <th>1</th>\n",
       "      <td>ID1139</td>\n",
       "      <td>ID0002</td>\n",
       "      <td>ID0002</td>\n",
       "      <td>ID0002</td>\n",
       "      <td>ID1129</td>\n",
       "      <td>ID1139</td>\n",
       "      <td>100.0</td>\n",
       "      <td>AR_PRD_20240615.csv</td>\n",
       "    </tr>\n",
       "    <tr>\n",
       "      <th>2</th>\n",
       "      <td>ID1140</td>\n",
       "      <td>ID0007</td>\n",
       "      <td>ID0056</td>\n",
       "      <td>ID0103</td>\n",
       "      <td>ID2110</td>\n",
       "      <td>ID1140</td>\n",
       "      <td>400.0</td>\n",
       "      <td>AR_PRD_20240615.csv</td>\n",
       "    </tr>\n",
       "    <tr>\n",
       "      <th>3</th>\n",
       "      <td>ID1279</td>\n",
       "      <td>ID0004</td>\n",
       "      <td>ID0007</td>\n",
       "      <td>ID0010</td>\n",
       "      <td>ID0774</td>\n",
       "      <td>ID0781</td>\n",
       "      <td>450.0</td>\n",
       "      <td>AR_PRD_20240615.csv</td>\n",
       "    </tr>\n",
       "    <tr>\n",
       "      <th>4</th>\n",
       "      <td>ID1746</td>\n",
       "      <td>ID0001</td>\n",
       "      <td>ID0002</td>\n",
       "      <td>ID0002</td>\n",
       "      <td>ID1221</td>\n",
       "      <td>ID1232</td>\n",
       "      <td>6.0</td>\n",
       "      <td>AR_PRD_20240615.csv</td>\n",
       "    </tr>\n",
       "  </tbody>\n",
       "</table>\n",
       "</div>"
      ],
      "text/plain": [
       "  PRD_CODIGO CATEGORIA_SKU PROVEEDOR_SKU MARCA_SKU NOMBRE_SKU  \\\n",
       "0     ID1138        ID0002        ID0002    ID0002     ID1128   \n",
       "1     ID1139        ID0002        ID0002    ID0002     ID1129   \n",
       "2     ID1140        ID0007        ID0056    ID0103     ID2110   \n",
       "3     ID1279        ID0004        ID0007    ID0010     ID0774   \n",
       "4     ID1746        ID0001        ID0002    ID0002     ID1221   \n",
       "\n",
       "  CODIGO_BARRAS_SKU  PROD_CANT_CONTENIDO       archivo_origen  \n",
       "0            ID1138                500.0  AR_PRD_20240615.csv  \n",
       "1            ID1139                100.0  AR_PRD_20240615.csv  \n",
       "2            ID1140                400.0  AR_PRD_20240615.csv  \n",
       "3            ID0781                450.0  AR_PRD_20240615.csv  \n",
       "4            ID1232                  6.0  AR_PRD_20240615.csv  "
      ]
     },
     "execution_count": 6,
     "metadata": {},
     "output_type": "execute_result"
    }
   ],
   "source": [
    "df_PRD_000.head()"
   ]
  },
  {
   "cell_type": "code",
   "execution_count": 7,
   "id": "666a3c93",
   "metadata": {},
   "outputs": [
    {
     "data": {
      "application/vnd.microsoft.datawrangler.viewer.v0+json": {
       "columns": [
        {
         "name": "index",
         "rawType": "int64",
         "type": "integer"
        },
        {
         "name": "CODIGO_PDV",
         "rawType": "object",
         "type": "string"
        },
        {
         "name": "CODIGO_UNICO_PDV",
         "rawType": "object",
         "type": "string"
        },
        {
         "name": "NOMBRE_PDV",
         "rawType": "object",
         "type": "string"
        },
        {
         "name": "DIRECCION_PDV",
         "rawType": "object",
         "type": "string"
        },
        {
         "name": "COMPARABLES_HOY",
         "rawType": "int64",
         "type": "integer"
        },
        {
         "name": "AREA_P",
         "rawType": "object",
         "type": "string"
        },
        {
         "name": "RUC",
         "rawType": "float64",
         "type": "float"
        },
        {
         "name": "ZONA_MODELO_B",
         "rawType": "object",
         "type": "string"
        },
        {
         "name": "CLUSTER_PDV",
         "rawType": "object",
         "type": "unknown"
        },
        {
         "name": "ESTADO_PDV",
         "rawType": "object",
         "type": "string"
        },
        {
         "name": "LOCALIDAD_PDV",
         "rawType": "object",
         "type": "string"
        },
        {
         "name": "ZONA_P",
         "rawType": "object",
         "type": "string"
        },
        {
         "name": "archivo_origen",
         "rawType": "object",
         "type": "string"
        }
       ],
       "ref": "915b5112-803b-46b6-aeed-98966e76f21a",
       "rows": [
        [
         "0",
         "ID0778",
         "ID0778",
         "ID0776",
         "ID0770",
         "0",
         "Interior",
         "30711794561.0",
         "CUYO",
         null,
         "MENDOZA",
         "General Alvear",
         "MENDOZA INTERIOR",
         "AR_PDV_20240615.csv"
        ],
        [
         "1",
         "ID0747",
         "ID0747",
         "ID0745",
         "ID0739",
         "0",
         "Interior",
         "30709057039.0",
         "CUYO",
         null,
         "MENDOZA",
         "General Alvear",
         "MENDOZA INTERIOR",
         "AR_PDV_20240615.csv"
        ],
        [
         "2",
         "ID0026",
         "ID0026",
         "ID0026",
         "ID0026",
         "0",
         "Interior",
         "27208536988.0",
         "LITORAL",
         null,
         "SANTA FE",
         "Rosario",
         "ROSARIO",
         "AR_PDV_20240615.csv"
        ],
        [
         "3",
         "ID0027",
         "ID0027",
         "ID0027",
         "ID0027",
         "0",
         "Metropolitana",
         "30712033033.0",
         "SUB SUR",
         null,
         "BUENOS AIRES",
         "La Plata",
         "LA PLATA",
         "AR_PDV_20240615.csv"
        ],
        [
         "4",
         "ID0029",
         "ID0029",
         "ID0029",
         "ID0029",
         "0",
         "Interior",
         "23269076224.0",
         "CUYO",
         "Autoservicio Chico",
         "MENDOZA",
         "MAIPU",
         "MENDOZA INTERIOR",
         "AR_PDV_20240615.csv"
        ]
       ],
       "shape": {
        "columns": 13,
        "rows": 5
       }
      },
      "text/html": [
       "<div>\n",
       "<style scoped>\n",
       "    .dataframe tbody tr th:only-of-type {\n",
       "        vertical-align: middle;\n",
       "    }\n",
       "\n",
       "    .dataframe tbody tr th {\n",
       "        vertical-align: top;\n",
       "    }\n",
       "\n",
       "    .dataframe thead th {\n",
       "        text-align: right;\n",
       "    }\n",
       "</style>\n",
       "<table border=\"1\" class=\"dataframe\">\n",
       "  <thead>\n",
       "    <tr style=\"text-align: right;\">\n",
       "      <th></th>\n",
       "      <th>CODIGO_PDV</th>\n",
       "      <th>CODIGO_UNICO_PDV</th>\n",
       "      <th>NOMBRE_PDV</th>\n",
       "      <th>DIRECCION_PDV</th>\n",
       "      <th>COMPARABLES_HOY</th>\n",
       "      <th>AREA_P</th>\n",
       "      <th>RUC</th>\n",
       "      <th>ZONA_MODELO_B</th>\n",
       "      <th>CLUSTER_PDV</th>\n",
       "      <th>ESTADO_PDV</th>\n",
       "      <th>LOCALIDAD_PDV</th>\n",
       "      <th>ZONA_P</th>\n",
       "      <th>archivo_origen</th>\n",
       "    </tr>\n",
       "  </thead>\n",
       "  <tbody>\n",
       "    <tr>\n",
       "      <th>0</th>\n",
       "      <td>ID0778</td>\n",
       "      <td>ID0778</td>\n",
       "      <td>ID0776</td>\n",
       "      <td>ID0770</td>\n",
       "      <td>0</td>\n",
       "      <td>Interior</td>\n",
       "      <td>3.071179e+10</td>\n",
       "      <td>CUYO</td>\n",
       "      <td>NaN</td>\n",
       "      <td>MENDOZA</td>\n",
       "      <td>General Alvear</td>\n",
       "      <td>MENDOZA INTERIOR</td>\n",
       "      <td>AR_PDV_20240615.csv</td>\n",
       "    </tr>\n",
       "    <tr>\n",
       "      <th>1</th>\n",
       "      <td>ID0747</td>\n",
       "      <td>ID0747</td>\n",
       "      <td>ID0745</td>\n",
       "      <td>ID0739</td>\n",
       "      <td>0</td>\n",
       "      <td>Interior</td>\n",
       "      <td>3.070906e+10</td>\n",
       "      <td>CUYO</td>\n",
       "      <td>NaN</td>\n",
       "      <td>MENDOZA</td>\n",
       "      <td>General Alvear</td>\n",
       "      <td>MENDOZA INTERIOR</td>\n",
       "      <td>AR_PDV_20240615.csv</td>\n",
       "    </tr>\n",
       "    <tr>\n",
       "      <th>2</th>\n",
       "      <td>ID0026</td>\n",
       "      <td>ID0026</td>\n",
       "      <td>ID0026</td>\n",
       "      <td>ID0026</td>\n",
       "      <td>0</td>\n",
       "      <td>Interior</td>\n",
       "      <td>2.720854e+10</td>\n",
       "      <td>LITORAL</td>\n",
       "      <td>NaN</td>\n",
       "      <td>SANTA FE</td>\n",
       "      <td>Rosario</td>\n",
       "      <td>ROSARIO</td>\n",
       "      <td>AR_PDV_20240615.csv</td>\n",
       "    </tr>\n",
       "    <tr>\n",
       "      <th>3</th>\n",
       "      <td>ID0027</td>\n",
       "      <td>ID0027</td>\n",
       "      <td>ID0027</td>\n",
       "      <td>ID0027</td>\n",
       "      <td>0</td>\n",
       "      <td>Metropolitana</td>\n",
       "      <td>3.071203e+10</td>\n",
       "      <td>SUB SUR</td>\n",
       "      <td>NaN</td>\n",
       "      <td>BUENOS AIRES</td>\n",
       "      <td>La Plata</td>\n",
       "      <td>LA PLATA</td>\n",
       "      <td>AR_PDV_20240615.csv</td>\n",
       "    </tr>\n",
       "    <tr>\n",
       "      <th>4</th>\n",
       "      <td>ID0029</td>\n",
       "      <td>ID0029</td>\n",
       "      <td>ID0029</td>\n",
       "      <td>ID0029</td>\n",
       "      <td>0</td>\n",
       "      <td>Interior</td>\n",
       "      <td>2.326908e+10</td>\n",
       "      <td>CUYO</td>\n",
       "      <td>Autoservicio Chico</td>\n",
       "      <td>MENDOZA</td>\n",
       "      <td>MAIPU</td>\n",
       "      <td>MENDOZA INTERIOR</td>\n",
       "      <td>AR_PDV_20240615.csv</td>\n",
       "    </tr>\n",
       "  </tbody>\n",
       "</table>\n",
       "</div>"
      ],
      "text/plain": [
       "  CODIGO_PDV CODIGO_UNICO_PDV NOMBRE_PDV DIRECCION_PDV  COMPARABLES_HOY  \\\n",
       "0     ID0778           ID0778     ID0776        ID0770                0   \n",
       "1     ID0747           ID0747     ID0745        ID0739                0   \n",
       "2     ID0026           ID0026     ID0026        ID0026                0   \n",
       "3     ID0027           ID0027     ID0027        ID0027                0   \n",
       "4     ID0029           ID0029     ID0029        ID0029                0   \n",
       "\n",
       "          AREA_P           RUC ZONA_MODELO_B         CLUSTER_PDV  \\\n",
       "0       Interior  3.071179e+10          CUYO                 NaN   \n",
       "1       Interior  3.070906e+10          CUYO                 NaN   \n",
       "2       Interior  2.720854e+10       LITORAL                 NaN   \n",
       "3  Metropolitana  3.071203e+10       SUB SUR                 NaN   \n",
       "4       Interior  2.326908e+10          CUYO  Autoservicio Chico   \n",
       "\n",
       "     ESTADO_PDV   LOCALIDAD_PDV            ZONA_P       archivo_origen  \n",
       "0       MENDOZA  General Alvear  MENDOZA INTERIOR  AR_PDV_20240615.csv  \n",
       "1       MENDOZA  General Alvear  MENDOZA INTERIOR  AR_PDV_20240615.csv  \n",
       "2      SANTA FE         Rosario           ROSARIO  AR_PDV_20240615.csv  \n",
       "3  BUENOS AIRES        La Plata          LA PLATA  AR_PDV_20240615.csv  \n",
       "4       MENDOZA           MAIPU  MENDOZA INTERIOR  AR_PDV_20240615.csv  "
      ]
     },
     "execution_count": 7,
     "metadata": {},
     "output_type": "execute_result"
    }
   ],
   "source": [
    "df_PDV_000.head()"
   ]
  }
 ],
 "metadata": {
  "kernelspec": {
   "display_name": "base",
   "language": "python",
   "name": "python3"
  },
  "language_info": {
   "codemirror_mode": {
    "name": "ipython",
    "version": 3
   },
   "file_extension": ".py",
   "mimetype": "text/x-python",
   "name": "python",
   "nbconvert_exporter": "python",
   "pygments_lexer": "ipython3",
   "version": "3.11.8"
  }
 },
 "nbformat": 4,
 "nbformat_minor": 5
}
